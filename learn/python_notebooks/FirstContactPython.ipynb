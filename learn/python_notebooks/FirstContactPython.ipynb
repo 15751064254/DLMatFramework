{
 "cells": [
  {
   "cell_type": "markdown",
   "metadata": {},
   "source": [
    "## Introducao ao Python\n",
    "Tutorial completo: https://www.tutorialspoint.com/python/index.htm"
   ]
  },
  {
   "cell_type": "markdown",
   "metadata": {},
   "source": [
    "### Imprimir e receber coisas\n",
    "Uma das coisas mais importantes que o computador pode fazer e receber e enviar informacoes para o usuario, os comandos mais basicos no python que fazem isso sao:\n",
    "* print: Sai com alguma informacao na tela\n",
    "* input: Recebe alguma informacao do teclado"
   ]
  },
  {
   "cell_type": "code",
   "execution_count": 1,
   "metadata": {
    "collapsed": false
   },
   "outputs": [
    {
     "name": "stdout",
     "output_type": "stream",
     "text": [
      "Hello world\n",
      "Leo tem 1 filha chamada Sofia ela tem 2 aninhos\n",
      "Qual e o seu nome? Aline\n",
      "Oi Aline\n"
     ]
    }
   ],
   "source": [
    "print(\"Hello world\")\n",
    "print(\"Leo tem %d filha chamada %s ela tem %d aninhos\" % (1,\"Sofia\",2))\n",
    "name=input('Qual e o seu nome? ')\n",
    "print(\"Oi\", name)"
   ]
  },
  {
   "cell_type": "markdown",
   "metadata": {},
   "source": [
    "### Variaveis\n",
    "As variaveis podem ser consideradas como espacos da memoria do computador que sao usados para guardar alguma informacao. As variaveis tem tipo e valor."
   ]
  },
  {
   "cell_type": "code",
   "execution_count": null,
   "metadata": {
    "collapsed": false
   },
   "outputs": [],
   "source": [
    "# Cria uma variavel chamada \"a\" e poe o valor 1\n",
    "a = 1\n",
    "# Cria uma variavel chamada \"b\" e poe o valor 1.1\n",
    "d = 1.1\n",
    "# Cria uma variavel chamada \"c\" atribui uma expressao\n",
    "c = (a+1)*2\n",
    "\n",
    "# Cria uma variavel chamada nome e poe string \"Aline\"\n",
    "nome = \"Aline\"\n",
    "\n",
    "print(c)\n",
    "print(type(a))\n",
    "print(type(d))\n",
    "print(type(nome))\n"
   ]
  },
  {
   "cell_type": "markdown",
   "metadata": {},
   "source": [
    "### Usando if\n",
    "O comando if e usado para fazer alguma acao caso uma condicao seja verdadeira. E a forma de voce fazer o programa tomar decisoes."
   ]
  },
  {
   "cell_type": "code",
   "execution_count": null,
   "metadata": {
    "collapsed": false
   },
   "outputs": [],
   "source": [
    "idade_string = input(\"Qual a sua idade? \")\n",
    "idade = int(idade_string)\n",
    "\n",
    "# Se idade for maior que 10 imprima \"Velho\" caso contrario imprima \"Novo\"\n",
    "if idade > 10:\n",
    "    print (\"Velho!\")\n",
    "else:\n",
    "    print (\"Novo!\")"
   ]
  },
  {
   "cell_type": "markdown",
   "metadata": {},
   "source": [
    "### Loops no python"
   ]
  },
  {
   "cell_type": "code",
   "execution_count": null,
   "metadata": {
    "collapsed": false
   },
   "outputs": [],
   "source": [
    "for x in range(-2, 4):\n",
    "    print(x)\n"
   ]
  },
  {
   "cell_type": "code",
   "execution_count": null,
   "metadata": {
    "collapsed": false
   },
   "outputs": [],
   "source": [
    "for x in range(3):\n",
    "    print(x)"
   ]
  },
  {
   "cell_type": "code",
   "execution_count": null,
   "metadata": {
    "collapsed": false
   },
   "outputs": [],
   "source": [
    "contador = 0\n",
    "# Executa enquanto a expressao (contador menor que 5 for verdadeira)\n",
    "while (contador < 5):\n",
    "    print('Valor do contador e:', contador)\n",
    "    # Incrementa variavel contador\n",
    "    contador = contador + 1\n",
    "\n",
    "print(\"Tchau boa noite!\")"
   ]
  },
  {
   "cell_type": "markdown",
   "metadata": {},
   "source": [
    "### Listas no python\n",
    "Considera um tipo de armazenamento na memoria que pode guardar diversos valores. Ex uma lista de compras."
   ]
  },
  {
   "cell_type": "code",
   "execution_count": null,
   "metadata": {
    "collapsed": false
   },
   "outputs": [],
   "source": [
    "lista1 = ['Aline', 'Leonardo', 'Sofia', 35, 35, 2];\n",
    "lista2 = [3,2,1]\n",
    "\n",
    "# Imprime primeiro elemento de lista1\n",
    "print(lista1[0])\n",
    "\n",
    "# Imprime ultimo elemento de lista1\n",
    "print(lista1[-1])\n",
    "\n",
    "# Verifica se o elemento 'Aline' esta na lista\n",
    "if 'Aline' in lista1:\n",
    "    print(\"Aline esta na lista1\")\n",
    "else:\n",
    "    print(\"Aline nao esta na lista1\")\n",
    "    \n",
    "# Pega tamanho da lista\n",
    "print(\"Tamanho da lista2:\", len(lista2), \"elementos\")\n",
    "\n",
    "# Cria um loop que vai em todos os elementos da lista2\n",
    "print(\"\\n\\n\\tElementos da lista2\\n\")\n",
    "for valor in lista2:\n",
    "    print(valor)"
   ]
  },
  {
   "cell_type": "markdown",
   "metadata": {},
   "source": [
    "### Sets\n",
    "Quase igual a uma lista, e uma colecao de elementos."
   ]
  },
  {
   "cell_type": "code",
   "execution_count": 20,
   "metadata": {
    "collapsed": false
   },
   "outputs": [
    {
     "name": "stdout",
     "output_type": "stream",
     "text": [
      "Tipo: <class 'set'> tamanho 4\n",
      "#1: tartaruga\n",
      "#2: cachorro\n",
      "#3: Peixe\n",
      "#4: gato\n"
     ]
    }
   ],
   "source": [
    "animais = {'gato', 'cachorro','tartaruga'}\n",
    "animais.add('Peixe')\n",
    "print(\"Tipo:\", type(animais), \"tamanho\",len(animais))\n",
    "\n",
    "# Itera nos elementos de animais\n",
    "for idx, animais in enumerate(animais):\n",
    "    print ('#%d: %s' % (idx + 1, animais))\n"
   ]
  },
  {
   "cell_type": "markdown",
   "metadata": {},
   "source": [
    "### Tupples em python\n",
    "Tupples sao listas imutaveis, imagine como se fosse uma lista constante. Ou seja uma vez que voce tenha definido a tupples voce nao pode mudar"
   ]
  },
  {
   "cell_type": "code",
   "execution_count": null,
   "metadata": {
    "collapsed": false
   },
   "outputs": [],
   "source": [
    "tup1 = ('physics', 'chemistry', 1997, 2000);\n",
    "print(type(tup1))\n",
    "\n",
    "# Segundo elemento da tupple\n",
    "print(tup1[1])\n",
    "\n",
    "print(\"Tamanho de \\\"tup1\\\"\", len(tup1), \"elementos\")"
   ]
  },
  {
   "cell_type": "markdown",
   "metadata": {},
   "source": [
    "### Dicionarios\n",
    "E um tipo de estrutura que guarda informacoes no formato chave:valor. Por exemplo Nome: Aline, Idade: 35"
   ]
  },
  {
   "cell_type": "code",
   "execution_count": null,
   "metadata": {
    "collapsed": false
   },
   "outputs": [],
   "source": [
    "infoPessoa = {'Nome': 'Aline', 'Idade': 35, 'Nivel': 'Superior'}\n",
    "infoPessoa2 = {'Nome': 'Leonardo', 'Idade': 35, 'Nivel': 'Incompleto'}\n",
    "\n",
    "# Imprime o campo \"Nome\" do dicionario \"infoPessoa\"\n",
    "print(infoPessoa['Nome'])\n",
    "\n",
    "print(\"\\n\\nChaves no dicionario\")\n",
    "for chave in infoPessoa.keys():\n",
    "    print(chave)\n",
    "\n",
    "print(\"\\n\\nValores no dicionario\")\n",
    "for valor in infoPessoa.values():\n",
    "    print(valor)"
   ]
  },
  {
   "cell_type": "markdown",
   "metadata": {},
   "source": [
    "### Funcoes\n",
    "Sao mini-programas com uma \"funcao\" bem definida. Exemplo uma funcao que imprima um numero na tela(print) ou uma funcao que converte um numero em celsius para farenheit."
   ]
  },
  {
   "cell_type": "code",
   "execution_count": null,
   "metadata": {
    "collapsed": true
   },
   "outputs": [],
   "source": [
    "def somaNumeros(a,b):\n",
    "    return a+b"
   ]
  },
  {
   "cell_type": "code",
   "execution_count": null,
   "metadata": {
    "collapsed": false
   },
   "outputs": [],
   "source": [
    "print(somaNumeros(21,2))"
   ]
  },
  {
   "cell_type": "markdown",
   "metadata": {},
   "source": [
    "### Excessoes\n",
    "E uma forma de detectar algum tipo de erro e retornar algum valor ou mensagem."
   ]
  },
  {
   "cell_type": "code",
   "execution_count": null,
   "metadata": {
    "collapsed": false
   },
   "outputs": [],
   "source": [
    "def divide(a,b):\n",
    "    # Detecta erro do tipo divisao por zero\n",
    "    try:\n",
    "        return a/b\n",
    "    except ZeroDivisionError:\n",
    "        # Caso o erro ocorra imprime uma mensagem e retorna Nan(not a number)\n",
    "        print (\"Divisao por zero\")\n",
    "        return float('nan')\n",
    "\n",
    "print(divide(6,2))\n",
    "print(divide(6,0))"
   ]
  },
  {
   "cell_type": "markdown",
   "metadata": {},
   "source": [
    "### Programacao Orientada a objeto\n",
    "Uma forma diferente de programar, onde voce divide um problema em objetos, cuja funcionalidade pode ser extendida atraves de mecanismos como heranca."
   ]
  },
  {
   "cell_type": "code",
   "execution_count": null,
   "metadata": {
    "collapsed": false
   },
   "outputs": [],
   "source": [
    "# Cria classe \"Empregado\" \n",
    "class Empresa:\n",
    "    'Common base class for all employees'\n",
    "    \n",
    "    # Cria variavel privada (nao visivel) fora da classe\n",
    "    __empCount = 0\n",
    "\n",
    "    def __init__(self, nome, salario):\n",
    "        self.nome = nome\n",
    "        self.salario = salario\n",
    "        Empresa.__empCount += 1\n",
    "   \n",
    "    def contrataEmpregado(self, nome, salario):\n",
    "        self.nome = nome\n",
    "        self.salario = salario\n",
    "        Empresa.__empCount += 1\n",
    "        \n",
    "    def quantosFuncionarios(self):\n",
    "        print (\"Temos %d funcionarios\" % Empresa.__empCount)\n",
    "\n",
    "    def mostraInformacoes(self):\n",
    "        print (\"Nome : \", self.nome,  \", Salario: \", self.salario)\n"
   ]
  },
  {
   "cell_type": "code",
   "execution_count": null,
   "metadata": {
    "collapsed": false
   },
   "outputs": [],
   "source": [
    "objEmpresa = Empresa(\"Aline\",1500)\n",
    "objEmpresa.mostraInformacoes()\n",
    "objEmpresa.quantosFuncionarios()\n",
    "objEmpresa.contrataEmpregado(\"Leonardo\", 1500)\n",
    "objEmpresa.quantosFuncionarios()\n",
    "#print(objEmpresa.__empCount)"
   ]
  },
  {
   "cell_type": "code",
   "execution_count": null,
   "metadata": {
    "collapsed": false
   },
   "outputs": [],
   "source": [
    "class Google(Empresa):   \n",
    "    # Cria um novo contrutor __init__ na classe filha mais que chama codigo da classe pai\n",
    "    def __init__(self, nome, salario):\n",
    "        # Chama metodo __init__ na classe pai\n",
    "        super().__init__(nome, salario)\n",
    "        # No google voce ganha 3x mais\n",
    "        self.salario = salario*3"
   ]
  },
  {
   "cell_type": "code",
   "execution_count": null,
   "metadata": {
    "collapsed": false
   },
   "outputs": [],
   "source": [
    "objEmpresaGoogle = Google(\"Leonardo\",1500)\n",
    "objEmpresaGoogle.mostraInformacoes()"
   ]
  },
  {
   "cell_type": "code",
   "execution_count": null,
   "metadata": {
    "collapsed": true
   },
   "outputs": [],
   "source": []
  }
 ],
 "metadata": {
  "anaconda-cloud": {},
  "kernelspec": {
   "display_name": "Python [conda root]",
   "language": "python",
   "name": "conda-root-py"
  },
  "language_info": {
   "codemirror_mode": {
    "name": "ipython",
    "version": 3
   },
   "file_extension": ".py",
   "mimetype": "text/x-python",
   "name": "python",
   "nbconvert_exporter": "python",
   "pygments_lexer": "ipython3",
   "version": "3.5.2"
  }
 },
 "nbformat": 4,
 "nbformat_minor": 1
}
